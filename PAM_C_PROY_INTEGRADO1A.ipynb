{
 "cells": [
  {
   "cell_type": "markdown",
   "metadata": {},
   "source": [
    "# Paso 1. Importa los datos."
   ]
  },
  {
   "cell_type": "code",
   "execution_count": 1,
   "metadata": {},
   "outputs": [],
   "source": [
    "import pandas as pd\n",
    "import matplotlib.pyplot as plt\n",
    "import numpy as np\n",
    "\n",
    "games_df = pd.read_csv('games.csv')\n",
    "# me parece que ustedes piden que el archivo vaya con la ruta: games_df = pd.read_csv('/datasets/games.csv')"
   ]
  },
  {
   "cell_type": "markdown",
   "metadata": {},
   "source": [
    "# Paso 2. Prepara los datos."
   ]
  },
  {
   "cell_type": "code",
   "execution_count": 2,
   "metadata": {},
   "outputs": [
    {
     "name": "stdout",
     "output_type": "stream",
     "text": [
      "<class 'pandas.core.frame.DataFrame'>\n",
      "RangeIndex: 16715 entries, 0 to 16714\n",
      "Data columns (total 11 columns):\n",
      " #   Column           Non-Null Count  Dtype  \n",
      "---  ------           --------------  -----  \n",
      " 0   Name             16713 non-null  object \n",
      " 1   Platform         16715 non-null  object \n",
      " 2   Year_of_Release  16446 non-null  float64\n",
      " 3   Genre            16713 non-null  object \n",
      " 4   NA_sales         16715 non-null  float64\n",
      " 5   EU_sales         16715 non-null  float64\n",
      " 6   JP_sales         16715 non-null  float64\n",
      " 7   Other_sales      16715 non-null  float64\n",
      " 8   Critic_Score     8137 non-null   float64\n",
      " 9   User_Score       10014 non-null  object \n",
      " 10  Rating           9949 non-null   object \n",
      "dtypes: float64(6), object(5)\n",
      "memory usage: 1.4+ MB\n"
     ]
    }
   ],
   "source": [
    "games_df.info()"
   ]
  },
  {
   "cell_type": "markdown",
   "metadata": {},
   "source": [
    "A simple vista podemos obervar que para 11 columnas tenemos un total de 16715 entradas, además tenemos valores ausentes en columnas como name, year_of_release, genre, pero de manera más significativa encontramos valores nulos en las columnas Critic_Score, User_Score y Rating. Otro de los elementos que podemos visibilizar rápidamente es que la información para Year_of_Release se encuentra como dato tipo float lo que nos limita la posibilidad de trabajar operaciones con fechas y no es tan adecuado al dato que busca describir."
   ]
  },
  {
   "cell_type": "markdown",
   "metadata": {},
   "source": [
    "Renombraremos las columnas y se convierte todo a minúsculas para que todas cumplan el criterio snake case."
   ]
  },
  {
   "cell_type": "code",
   "execution_count": 3,
   "metadata": {},
   "outputs": [],
   "source": [
    "games_df.rename( columns= {'Name':'name', 'Platform':'platform','Year_of_Release':'year_of_release','Genre':'genre','NA_sales':'na_sales', 'EU_sales':'eu_sales', 'JP_sales':'jp_sales','Other_sales':'other_sales','Critic_Score':'critic_score', 'User_Score':'user_score','Rating':'rating'}, inplace=True)"
   ]
  },
  {
   "cell_type": "markdown",
   "metadata": {},
   "source": [
    "Como primera observación los datos de las columnas 'user_score' y 'rating' podrían tener una mayor funcionalidad transformados a datos de tipo float, que son más acordes al tipo de dato que describen, y que quizá nos permitan efectuar operaciones con ellos.Asimismo, las columnas critic_score, user_score y rating tienen muchos datos nulos."
   ]
  },
  {
   "cell_type": "markdown",
   "metadata": {},
   "source": [
    "#### rating"
   ]
  },
  {
   "cell_type": "code",
   "execution_count": 4,
   "metadata": {},
   "outputs": [
    {
     "data": {
      "text/plain": [
       "6766"
      ]
     },
     "execution_count": 4,
     "metadata": {},
     "output_type": "execute_result"
    }
   ],
   "source": [
    "games_df['rating'].isna().sum()"
   ]
  },
  {
   "cell_type": "code",
   "execution_count": 5,
   "metadata": {},
   "outputs": [
    {
     "data": {
      "text/plain": [
       "9949"
      ]
     },
     "execution_count": 5,
     "metadata": {},
     "output_type": "execute_result"
    }
   ],
   "source": [
    "games_df['rating'].count()"
   ]
  },
  {
   "cell_type": "markdown",
   "metadata": {},
   "source": [
    "En específico, la columna rating tiene 6766 valores ausentes. La gran cantidad de datos ausentes respecto del total, en esta y otras columnas es un fuerte indicador de que no deberíamos eliminar los valores nulos."
   ]
  },
  {
   "cell_type": "code",
   "execution_count": 6,
   "metadata": {},
   "outputs": [
    {
     "data": {
      "text/plain": [
       "rating\n",
       "E       3990\n",
       "T       2961\n",
       "M       1563\n",
       "E10+    1420\n",
       "EC         8\n",
       "K-A        3\n",
       "RP         3\n",
       "AO         1\n",
       "Name: count, dtype: int64"
      ]
     },
     "execution_count": 6,
     "metadata": {},
     "output_type": "execute_result"
    }
   ],
   "source": [
    "games_df['rating'].value_counts()"
   ]
  },
  {
   "cell_type": "markdown",
   "metadata": {},
   "source": [
    "Si visualizamos comportamiento de los datos de rating a lo largo de los años, podríamos obtener algunas conclusiones: "
   ]
  },
  {
   "cell_type": "code",
   "execution_count": 7,
   "metadata": {},
   "outputs": [
    {
     "data": {
      "text/plain": [
       "<Axes: xlabel='year_of_release'>"
      ]
     },
     "execution_count": 7,
     "metadata": {},
     "output_type": "execute_result"
    },
    {
     "data": {
      "image/png": "[encoded data removed]",
      "text/plain": [
       "<Figure size 640x480 with 1 Axes>"
      ]
     },
     "metadata": {},
     "output_type": "display_data"
    }
   ],
   "source": [
    "games_df['rating'].isna().groupby(games_df['year_of_release']).sum().plot(kind='line')"
   ]
  },
  {
   "cell_type": "markdown",
   "metadata": {},
   "source": [
    "Como vemos, antes del año 1993, los valores suelen estar muy próximos a cero, lo que nos indicaría que quizá, la práctica de evaluar u otorgar un rating a los videojuegos era inexistente."
   ]
  },
  {
   "cell_type": "markdown",
   "metadata": {},
   "source": [
    "#### user_score"
   ]
  },
  {
   "cell_type": "code",
   "execution_count": 8,
   "metadata": {},
   "outputs": [
    {
     "data": {
      "text/plain": [
       "10014"
      ]
     },
     "execution_count": 8,
     "metadata": {},
     "output_type": "execute_result"
    }
   ],
   "source": [
    "games_df['user_score'].count()"
   ]
  },
  {
   "cell_type": "code",
   "execution_count": 9,
   "metadata": {},
   "outputs": [
    {
     "data": {
      "text/plain": [
       "user_score\n",
       "tbd    2424\n",
       "7.8     324\n",
       "8       290\n",
       "8.2     282\n",
       "8.3     254\n",
       "Name: count, dtype: int64"
      ]
     },
     "metadata": {},
     "output_type": "display_data"
    }
   ],
   "source": [
    "display(games_df['user_score'].value_counts().head())"
   ]
  },
  {
   "cell_type": "markdown",
   "metadata": {},
   "source": [
    "Ahora bien, si analizamos un poco más la columna user_score para entender qué tipo de valores nulos tenemos, el resultado nos muestra 2424 valores 'tbd' - to be determined. Esto pudiese sugerir que el video juego no cuenta con puntuaciones de usuario, o bien, que el juego es de muy reciente creación, etc. Sin embargo, aunque estas puntuaciones no se tienen en este momento se ha decidido que no deben descartarse / eliminarse por la misma razón que en la columna rating."
   ]
  },
  {
   "cell_type": "markdown",
   "metadata": {},
   "source": [
    "Ahora, si añadimos el mismo ejercicio en el que tratamos de observar el comportamiento de la columna user_score  a lo largo de los años notaremos que siguen exactamente la misma tendencia que rating. Es decir, para antes de 1992 casi no había puntajes, lo cual nos hace pensar que esta práctica no existía y que no es hasta después de ese año en que paulatinamente empieza a incrementarse."
   ]
  },
  {
   "cell_type": "code",
   "execution_count": 10,
   "metadata": {},
   "outputs": [
    {
     "data": {
      "text/plain": [
       "<Axes: xlabel='year_of_release'>"
      ]
     },
     "execution_count": 10,
     "metadata": {},
     "output_type": "execute_result"
    },
    {
     "data": {
      "image/png": "[encoded data removed]",
      "text/plain": [
       "<Figure size 640x480 with 1 Axes>"
      ]
     },
     "metadata": {},
     "output_type": "display_data"
    }
   ],
   "source": [
    "games_df['user_score'].isna().groupby(games_df['year_of_release']).sum().plot(kind='line')"
   ]
  },
  {
   "cell_type": "markdown",
   "metadata": {},
   "source": [
    "\n",
    "Como no podemos transformar datos de tipo object a tipo float si estos contienen datos nulos o, como en este caso: tbd; primero debemos determinar cuál será el tratamiento de los mismos. \n",
    "\n",
    "Una opción pudiese ser el reemplazar definitivamente los valores tbd por 0, lo cual, significaría alterar los resultados de los datos. Esto podría interpretarse no como una falta o ausencia de calificaciones de parte del usuario, sino que el usuario calificó y el puntaje obtenido fue de 0.\n",
    "\n",
    "Como alternativa, se plantea el transformar los datos tbd otorgándoles un valor numérico pero creando una nueva columna: user_score_adjusted para poder trabajar con esta información sin perder la data original."
   ]
  },
  {
   "cell_type": "code",
   "execution_count": 11,
   "metadata": {},
   "outputs": [],
   "source": [
    "games_df['user_score_adjusted'] = np.where(\n",
    "games_df['user_score'] == 'tbd', \n",
    "0,\n",
    "games_df['user_score']\n",
    ")"
   ]
  },
  {
   "cell_type": "code",
   "execution_count": 12,
   "metadata": {},
   "outputs": [],
   "source": [
    "games_df['user_score_adjusted'] = games_df['user_score_adjusted'].astype('float')"
   ]
  },
  {
   "cell_type": "markdown",
   "metadata": {},
   "source": [
    "Como resultado, se crea una nueva columna que permitirá utilizar la puntuación del usuario, sin eliminar los tbd pero transformando el dato a float."
   ]
  },
  {
   "cell_type": "code",
   "execution_count": 13,
   "metadata": {},
   "outputs": [
    {
     "data": {
      "text/plain": [
       "user_score_adjusted\n",
       "0.0    2425\n",
       "0.2       2\n",
       "0.3       2\n",
       "0.5       2\n",
       "0.6       2\n",
       "       ... \n",
       "9.3      31\n",
       "9.4      11\n",
       "9.5       6\n",
       "9.6       2\n",
       "9.7       1\n",
       "Name: count, Length: 95, dtype: int64"
      ]
     },
     "execution_count": 13,
     "metadata": {},
     "output_type": "execute_result"
    }
   ],
   "source": [
    "games_df['user_score_adjusted'].value_counts().sort_index()"
   ]
  },
  {
   "cell_type": "markdown",
   "metadata": {},
   "source": [
    "#### Valores nulos."
   ]
  },
  {
   "cell_type": "markdown",
   "metadata": {},
   "source": [
    "Como conclusión respecto al tratamiento de los valores nulos en la base de datos, se prefirió no eliminar los valores nulos debido a  las siguientes razones:\n",
    "\n",
    "1. Hay una cantidad muy muy grande y significativa de datos que poseen valores nulos en las columnas critic_score, user_score y rating, y el eliminarlos pudiese alterar de manera relevante las conclusiones derivadas de los datos. La eliminación de todos ellos supone perder una cantidad muy significativa de los datos, simplemente no es deseable.\n",
    "\n",
    "2. La distribución de los datos para estas columnas, muestra que en general, los datos ausentes se encuentran mayormente en datos que preceden al año 1993, lo cual, de mantenerse así nos permite visibilizar que antes de esta fecha posiblemente no existia el sistema de calificación de los juegos, y que para el consumidor esta no era una parte fundamental de su decisón de compra.  Tener presente este elemento frente a la toma de decisiones o eliminar los datos previos a 1993 es mucho más manejable."
   ]
  },
  {
   "cell_type": "markdown",
   "metadata": {},
   "source": [
    "Si deseamos eliminar los datos previos o iguales a 1993, lo más recomendable sería la creación de una nueva columna:'released' en la que 'year_of _release' se transforma a dato datetime, para así darnos más opciones para utilizarlo y evitar perder la data original."
   ]
  },
  {
   "cell_type": "code",
   "execution_count": 14,
   "metadata": {},
   "outputs": [],
   "source": [
    "games_df['released'] = pd.to_datetime(games_df['year_of_release'], format= \"%Y\")"
   ]
  },
  {
   "cell_type": "markdown",
   "metadata": {},
   "source": [
    "#### name"
   ]
  },
  {
   "cell_type": "code",
   "execution_count": 15,
   "metadata": {},
   "outputs": [
    {
     "data": {
      "text/plain": [
       "16713"
      ]
     },
     "execution_count": 15,
     "metadata": {},
     "output_type": "execute_result"
    }
   ],
   "source": [
    "games_df['name'].count()"
   ]
  },
  {
   "cell_type": "markdown",
   "metadata": {},
   "source": [
    "Identificaremos cuántos valores o nombres únicos, y cuántos valores repetidos de nombres de juegos existen en la base de datos."
   ]
  },
  {
   "cell_type": "code",
   "execution_count": 16,
   "metadata": {},
   "outputs": [
    {
     "data": {
      "text/plain": [
       "11559"
      ]
     },
     "execution_count": 16,
     "metadata": {},
     "output_type": "execute_result"
    }
   ],
   "source": [
    "games_df['name'].nunique()"
   ]
  },
  {
   "cell_type": "code",
   "execution_count": 17,
   "metadata": {},
   "outputs": [
    {
     "data": {
      "text/plain": [
       "5155"
      ]
     },
     "execution_count": 17,
     "metadata": {},
     "output_type": "execute_result"
    }
   ],
   "source": [
    "games_df['name'].duplicated().sum()"
   ]
  },
  {
   "cell_type": "markdown",
   "metadata": {},
   "source": [
    "Continuando con la exploración de datos encontramos que tenemos 5155 nombres o títlos de juegos duplicados, sin embargo, esto tiene sentido puesto que cada juego pudiera estar disponible en múltiple plataformas; por lo cual se sugiere dejar sin modificaciones."
   ]
  },
  {
   "cell_type": "markdown",
   "metadata": {},
   "source": [
    "#### Calculamos las ventas totales (la suma de las ventas en todas las regiones) para cada juego, y colocamos estos valores en una columna separada: game_total_sales."
   ]
  },
  {
   "cell_type": "code",
   "execution_count": 18,
   "metadata": {},
   "outputs": [],
   "source": [
    "games_df['total_sales'] = games_df['na_sales'] + games_df['eu_sales'] + games_df['jp_sales'] + games_df['other_sales']"
   ]
  },
  {
   "cell_type": "code",
   "execution_count": 19,
   "metadata": {},
   "outputs": [
    {
     "data": {
      "text/html": [
       "<div>\n",
       "<style scoped>\n",
       "    .dataframe tbody tr th:only-of-type {\n",
       "        vertical-align: middle;\n",
       "    }\n",
       "\n",
       "    .dataframe tbody tr th {\n",
       "        vertical-align: top;\n",
       "    }\n",
       "\n",
       "    .dataframe thead th {\n",
       "        text-align: right;\n",
       "    }\n",
       "</style>\n",
       "<table border=\"1\" class=\"dataframe\">\n",
       "  <thead>\n",
       "    <tr style=\"text-align: right;\">\n",
       "      <th></th>\n",
       "      <th>name</th>\n",
       "      <th>platform</th>\n",
       "      <th>year_of_release</th>\n",
       "      <th>genre</th>\n",
       "      <th>na_sales</th>\n",
       "      <th>eu_sales</th>\n",
       "      <th>jp_sales</th>\n",
       "      <th>other_sales</th>\n",
       "      <th>critic_score</th>\n",
       "      <th>user_score</th>\n",
       "      <th>rating</th>\n",
       "      <th>user_score_adjusted</th>\n",
       "      <th>released</th>\n",
       "      <th>total_sales</th>\n",
       "    </tr>\n",
       "  </thead>\n",
       "  <tbody>\n",
       "    <tr>\n",
       "      <th>0</th>\n",
       "      <td>Wii Sports</td>\n",
       "      <td>Wii</td>\n",
       "      <td>2006.0</td>\n",
       "      <td>Sports</td>\n",
       "      <td>41.36</td>\n",
       "      <td>28.96</td>\n",
       "      <td>3.77</td>\n",
       "      <td>8.45</td>\n",
       "      <td>76.0</td>\n",
       "      <td>8</td>\n",
       "      <td>E</td>\n",
       "      <td>8.0</td>\n",
       "      <td>2006-01-01</td>\n",
       "      <td>82.54</td>\n",
       "    </tr>\n",
       "    <tr>\n",
       "      <th>1</th>\n",
       "      <td>Super Mario Bros.</td>\n",
       "      <td>NES</td>\n",
       "      <td>1985.0</td>\n",
       "      <td>Platform</td>\n",
       "      <td>29.08</td>\n",
       "      <td>3.58</td>\n",
       "      <td>6.81</td>\n",
       "      <td>0.77</td>\n",
       "      <td>NaN</td>\n",
       "      <td>NaN</td>\n",
       "      <td>NaN</td>\n",
       "      <td>NaN</td>\n",
       "      <td>1985-01-01</td>\n",
       "      <td>40.24</td>\n",
       "    </tr>\n",
       "  </tbody>\n",
       "</table>\n",
       "</div>"
      ],
      "text/plain": [
       "                name platform  year_of_release     genre  na_sales  eu_sales  \\\n",
       "0         Wii Sports      Wii           2006.0    Sports     41.36     28.96   \n",
       "1  Super Mario Bros.      NES           1985.0  Platform     29.08      3.58   \n",
       "\n",
       "   jp_sales  other_sales  critic_score user_score rating  user_score_adjusted  \\\n",
       "0      3.77         8.45          76.0          8      E                  8.0   \n",
       "1      6.81         0.77           NaN        NaN    NaN                  NaN   \n",
       "\n",
       "    released  total_sales  \n",
       "0 2006-01-01        82.54  \n",
       "1 1985-01-01        40.24  "
      ]
     },
     "metadata": {},
     "output_type": "display_data"
    }
   ],
   "source": [
    "display(games_df.head(2))"
   ]
  },
  {
   "cell_type": "code",
   "execution_count": 20,
   "metadata": {},
   "outputs": [
    {
     "data": {
      "text/plain": [
       "count    16715.000000\n",
       "mean         0.533396\n",
       "std          1.548261\n",
       "min          0.000000\n",
       "25%          0.060000\n",
       "50%          0.170000\n",
       "75%          0.470000\n",
       "max         82.540000\n",
       "Name: total_sales, dtype: float64"
      ]
     },
     "execution_count": 20,
     "metadata": {},
     "output_type": "execute_result"
    }
   ],
   "source": [
    "games_df['total_sales'].describe()"
   ]
  },
  {
   "cell_type": "markdown",
   "metadata": {},
   "source": [
    "Considerando todas las plataforma en nuestra base de datos, el juego con el máximo de ventas tiene 1062,33 (millones), mientras tanto, el que menos ventas tuvo muestra un total de 0.03."
   ]
  },
  {
   "cell_type": "markdown",
   "metadata": {},
   "source": [
    "# 3.  Analiza los datos."
   ]
  },
  {
   "cell_type": "markdown",
   "metadata": {},
   "source": [
    "#### ¿Cuántos juegos fueron lanzados en diferentes años?"
   ]
  },
  {
   "cell_type": "code",
   "execution_count": 21,
   "metadata": {},
   "outputs": [
    {
     "data": {
      "text/plain": [
       "<Axes: xlabel='released'>"
      ]
     },
     "execution_count": 21,
     "metadata": {},
     "output_type": "execute_result"
    },
    {
     "data": {
      "image/png": "[encoded data removed]",
      "text/plain": [
       "<Figure size 640x480 with 1 Axes>"
      ]
     },
     "metadata": {},
     "output_type": "display_data"
    }
   ],
   "source": [
    "games_df.groupby('released')['name'].count().plot(kind='line')"
   ]
  },
  {
   "cell_type": "markdown",
   "metadata": {},
   "source": [
    "Aquí podemos ver la evolución del mercado de videojuegos, desde la creación de los primeros juegos y consolas en los años ochenta, muy pocos juegos eran lanzados al mercado. Lo cual los vuelve poco signficativos para la toma de decisiones actuales."
   ]
  },
  {
   "cell_type": "markdown",
   "metadata": {},
   "source": [
    "####  Ventas totales de todas las plataformas."
   ]
  },
  {
   "cell_type": "markdown",
   "metadata": {},
   "source": [
    "¿Cómo varían las ventas? Las ventas parecen tener un punto máximo de ventas y luego un descenso que se asocia a la introducción de una nueva plataforma."
   ]
  },
  {
   "cell_type": "code",
   "execution_count": 22,
   "metadata": {},
   "outputs": [
    {
     "data": {
      "text/plain": [
       "<Axes: xlabel='released'>"
      ]
     },
     "execution_count": 22,
     "metadata": {},
     "output_type": "execute_result"
    },
    {
     "data": {
      "image/png": "[encoded data removed]",
      "text/plain": [
       "<Figure size 640x480 with 1 Axes>"
      ]
     },
     "metadata": {},
     "output_type": "display_data"
    }
   ],
   "source": [
    "games_df.pivot_table(index=\"released\", columns=\"platform\", values=\"total_sales\", aggfunc=\"sum\").plot(kind=\"line\")"
   ]
  },
  {
   "cell_type": "code",
   "execution_count": null,
   "metadata": {},
   "outputs": [],
   "source": [
    "nintendo = [\"NES\", \"SNES\", \"N64\", \"Wii\", \"WiiU\"]\n",
    "nintendo_portable = [\"GB\",\"GC\",\"GBA\", \"DS\", \"3DS\"]\n",
    "xbox = [\"XB\", \"X360\", \"XOne\"]\n",
    "play_station = [\"PS\",\"PS2\",\"PS3\",\"PS4\"]\n",
    "play_station_portable = [\"PSP\",\"PSV\"]"
   ]
  },
  {
   "cell_type": "markdown",
   "metadata": {},
   "source": [
    "#### ¿Cuáles son las plataformas con más ventas?"
   ]
  },
  {
   "cell_type": "markdown",
   "metadata": {},
   "source": [
    "Identificamos las 8 plataformas más populares a lo largo de los años."
   ]
  },
  {
   "cell_type": "code",
   "execution_count": 26,
   "metadata": {},
   "outputs": [
    {
     "data": {
      "text/plain": [
       "platform\n",
       "DS       806.12\n",
       "Wii      907.51\n",
       "PS3      939.65\n",
       "X360     971.42\n",
       "PS2     1255.77\n",
       "Name: total_sales, dtype: float64"
      ]
     },
     "metadata": {},
     "output_type": "display_data"
    }
   ],
   "source": [
    "top_sales_plat = games_df.groupby('platform')['total_sales'].sum().sort_values().tail(5)\n",
    "display(top_sales_plat)"
   ]
  },
  {
   "cell_type": "code",
   "execution_count": 24,
   "metadata": {},
   "outputs": [
    {
     "name": "stdout",
     "output_type": "stream",
     "text": [
      "['N64', 'NES', 'GB', 'XB', '3DS', 'PC', 'PSP', 'PS4', 'GBA', 'PS', 'DS', 'Wii', 'PS3', 'X360', 'PS2']\n"
     ]
    }
   ],
   "source": [
    "top_sales_plat = list(games_df.groupby('platform')['total_sales'].sum().sort_values().tail(15).index)                                                                                     \n",
    "print(top_sales_plat)"
   ]
  },
  {
   "cell_type": "code",
   "execution_count": null,
   "metadata": {},
   "outputs": [],
   "source": [
    "#platform_top_sales.describe()"
   ]
  },
  {
   "cell_type": "markdown",
   "metadata": {},
   "source": [
    "A continuación encontraremos algunos datos relevantes a esas plataformas, como el mínimo y máximo de ventas globales, dentro del grupo que conforman esas plataformas."
   ]
  },
  {
   "cell_type": "markdown",
   "metadata": {},
   "source": [
    "Considerando todas las plataforma en nuestra base de datos, la plataforma con el máximo de ventas tiene 1062,33 (millones), mientras que la plataforma que menos ventas tuvo muestra un total de 0.03. Arriba odemos observar que, sería PS2 la que tiene más ventas. "
   ]
  },
  {
   "cell_type": "markdown",
   "metadata": {},
   "source": [
    "### ¿Cuáles son las plataformas que solían ser populares pero que ahora no tienen ventas? ¿Cuánto tardan generalmente las nuevas plataformas en aparecer y las antiguas en desaparecer?\n"
   ]
  },
  {
   "cell_type": "markdown",
   "metadata": {},
   "source": [
    "La lista de las 15 plataformas que acumulan más ventas a lo largo de la historia es encabezada por Play Station 2, seguida por Xbox 360, mientras que en su posición más baja se encuentra Nintendo 64."
   ]
  },
  {
   "cell_type": "code",
   "execution_count": null,
   "metadata": {},
   "outputs": [],
   "source": [
    "(\n",
    "    games_df[games_df['platform'].isin(top_sales_platforms)]\n",
    "    .pivot_table(index='released',\n",
    "                 columns= 'platform',\n",
    "                 values='game_total_sales',\n",
    "                 aggfunc='sum',\n",
    "                 )\n",
    "                 .plot(kind='line',\n",
    "                       title='Top sales platforms by year')\n",
    "\n",
    ")"
   ]
  },
  {
   "cell_type": "markdown",
   "metadata": {},
   "source": [
    "Como podemos observar, dentro de la lista de las 15 plataformas que más ventas han registrado a lo largo de los años, podemos ver que NES y Game Boy, dominaron el mercado/registraron sus mayores ventas antes de 1992, donde comienzan a desaparecer; dando lugar a las plataformas con más ventas históticas (al menos en esta base de datos) con un despegue de sus ventas después de los años 1993 - 1994."
   ]
  },
  {
   "cell_type": "markdown",
   "metadata": {},
   "source": [
    "Es importante observar estos datos pues nos ayuda a responder la pregunta sobre las plataformas que solían ser populares y que ahora no tienen ventas. Como mencionamos, la primer consola de Nintendo y GameBoy eran claramente las favoritas entre 1984 y 1992, sin embargo; apenas dos años después de su caída en ventas, ya tenemos una nueva favorita, Play Station."
   ]
  },
  {
   "cell_type": "markdown",
   "metadata": {},
   "source": [
    "Las siguientes serían las 10 plataformas con más ventas."
   ]
  },
  {
   "cell_type": "code",
   "execution_count": null,
   "metadata": {},
   "outputs": [],
   "source": [
    "#top_platforms = platform_total_sales.sort_values(ascending=False).head(15)\n",
    "#display(top_platforms.plot(kind='bar', title= 'Top platforms'))"
   ]
  },
  {
   "cell_type": "code",
   "execution_count": null,
   "metadata": {},
   "outputs": [],
   "source": [
    "#top_platforms= list(games_df.groupby('platform')['game_total_sales'].sum()sort_values().tail(10).index)\n",
    "#display(top_platforms)"
   ]
  },
  {
   "cell_type": "code",
   "execution_count": null,
   "metadata": {},
   "outputs": [],
   "source": [
    "games_df.head(2)"
   ]
  },
  {
   "cell_type": "code",
   "execution_count": null,
   "metadata": {},
   "outputs": [],
   "source": [
    "top_platforms = list(games_df.groupby('platform')['na_sales'].sum().sort_values().tail(5).index)\n",
    "(\n",
    "    games_df[games_df['platform'].isin(top_platforms)]\n",
    "    .pivot_table(index='released',\n",
    "                 columns= 'platform',\n",
    "                 values='game_total_sales',\n",
    "                 aggfunc='sum',\n",
    "                 )\n",
    "                 .plot(kind='line',\n",
    "                       title='Top five platforms by year')\n",
    "\n",
    ")"
   ]
  },
  {
   "cell_type": "markdown",
   "metadata": {},
   "source": [
    "#### Trabaja solo con los datos que consideras relevantes. Ignora los datos de años anteriores.\n"
   ]
  },
  {
   "cell_type": "markdown",
   "metadata": {},
   "source": [
    "Como hemos podido observar en los gráficos anteriores, la cantidad de juegos previos a 1993 son mucho menores en comparación a los presentes en el mercado contemporáneo, además las plataformas ya no existen, es decir, no compiten en el mercado actual por lo cual podemos prescindir de dichos datos. Para conocer el aproximado de datos que estaríamos dejando fuera, haremos lo siguiente:"
   ]
  },
  {
   "cell_type": "code",
   "execution_count": null,
   "metadata": {},
   "outputs": [],
   "source": [
    "games_df.query(\"released <= '1993-01-01'\").shape"
   ]
  },
  {
   "cell_type": "markdown",
   "metadata": {},
   "source": [
    "Si tomamos únicamente los datos de 1993 en adelante, en total se estarían dejando de lado 367 juegos."
   ]
  },
  {
   "cell_type": "markdown",
   "metadata": {},
   "source": [
    "###  Crea un diagrama de caja para las ventas globales de todos los juegos, desglosados por plataforma. "
   ]
  },
  {
   "cell_type": "code",
   "execution_count": null,
   "metadata": {},
   "outputs": [],
   "source": [
    "games_before_nineties = games_df.query(\"released > '1993-01-01'\")\n",
    "games_before_nineties.groupby(['released','platform'])['game_total_sales'].sum().reset_index()"
   ]
  },
  {
   "cell_type": "code",
   "execution_count": null,
   "metadata": {},
   "outputs": [],
   "source": [
    "games_df.pivot_table(index='released', columns='platform', values='game_total_sales', aggfunc='sum').plot(kind='line')"
   ]
  },
  {
   "cell_type": "code",
   "execution_count": null,
   "metadata": {},
   "outputs": [],
   "source": [
    "games_before_nineties[games_before_nineties['platform'].isin(top_platforms)][['game_total_sales','platform',]].boxplot(\n",
    "    column='game_total_sales',\n",
    "    by='platform'\n",
    ")\n",
    "plt.ylim = (0,2)\n",
    "plt.show()"
   ]
  },
  {
   "cell_type": "markdown",
   "metadata": {},
   "source": [
    "Veremos la distribución general de los juegos por género. ¿Qué se puede decir de los géneros más rentables? ¿Puedes generalizar acerca de los géneros con ventas altas y bajas?"
   ]
  },
  {
   "cell_type": "code",
   "execution_count": null,
   "metadata": {},
   "outputs": [],
   "source": [
    "games_df.pivot_table(\n",
    "    index='released', \n",
    "    columns='genre', \n",
    "    values='critic_score', \n",
    "    aggfunc='mean'\n",
    "    ).plot(kind='line')"
   ]
  }
 ],
 "metadata": {
  "ExecuteTimeLog": [
   {
    "duration": 5403,
    "start_time": "2024-06-13T01:06:33.340Z"
   },
   {
    "duration": 0,
    "start_time": "2024-06-13T01:06:38.749Z"
   },
   {
    "duration": 0,
    "start_time": "2024-06-13T01:06:38.751Z"
   },
   {
    "duration": 0,
    "start_time": "2024-06-13T01:06:38.753Z"
   },
   {
    "duration": 0,
    "start_time": "2024-06-13T01:06:38.754Z"
   },
   {
    "duration": 0,
    "start_time": "2024-06-13T01:06:38.756Z"
   },
   {
    "duration": 0,
    "start_time": "2024-06-13T01:06:38.760Z"
   },
   {
    "duration": 0,
    "start_time": "2024-06-13T01:06:38.762Z"
   },
   {
    "duration": 1,
    "start_time": "2024-06-13T01:06:38.763Z"
   },
   {
    "duration": 0,
    "start_time": "2024-06-13T01:06:38.766Z"
   },
   {
    "duration": 0,
    "start_time": "2024-06-13T01:06:38.769Z"
   },
   {
    "duration": 0,
    "start_time": "2024-06-13T01:06:38.770Z"
   },
   {
    "duration": 0,
    "start_time": "2024-06-13T01:06:38.773Z"
   },
   {
    "duration": 0,
    "start_time": "2024-06-13T01:06:38.813Z"
   },
   {
    "duration": 0,
    "start_time": "2024-06-13T01:06:38.815Z"
   },
   {
    "duration": 0,
    "start_time": "2024-06-13T01:06:38.817Z"
   },
   {
    "duration": 0,
    "start_time": "2024-06-13T01:06:38.819Z"
   },
   {
    "duration": 0,
    "start_time": "2024-06-13T01:06:38.821Z"
   },
   {
    "duration": 0,
    "start_time": "2024-06-13T01:06:38.824Z"
   },
   {
    "duration": 0,
    "start_time": "2024-06-13T01:06:38.827Z"
   },
   {
    "duration": 0,
    "start_time": "2024-06-13T01:06:38.829Z"
   },
   {
    "duration": 1,
    "start_time": "2024-06-13T01:06:38.831Z"
   },
   {
    "duration": 0,
    "start_time": "2024-06-13T01:06:38.834Z"
   },
   {
    "duration": 0,
    "start_time": "2024-06-13T01:06:38.836Z"
   },
   {
    "duration": 0,
    "start_time": "2024-06-13T01:06:38.838Z"
   },
   {
    "duration": 0,
    "start_time": "2024-06-13T01:06:38.840Z"
   },
   {
    "duration": 0,
    "start_time": "2024-06-13T01:06:38.842Z"
   },
   {
    "duration": 0,
    "start_time": "2024-06-13T01:06:38.844Z"
   },
   {
    "duration": 1,
    "start_time": "2024-06-13T01:06:38.846Z"
   },
   {
    "duration": 0,
    "start_time": "2024-06-13T01:06:38.849Z"
   },
   {
    "duration": 0,
    "start_time": "2024-06-13T01:06:38.912Z"
   },
   {
    "duration": 0,
    "start_time": "2024-06-13T01:06:38.914Z"
   },
   {
    "duration": 0,
    "start_time": "2024-06-13T01:06:38.916Z"
   },
   {
    "duration": 0,
    "start_time": "2024-06-13T01:06:38.918Z"
   },
   {
    "duration": 4494,
    "start_time": "2024-06-13T01:55:39.272Z"
   },
   {
    "duration": 761,
    "start_time": "2024-06-13T01:55:53.830Z"
   },
   {
    "duration": 25,
    "start_time": "2024-06-13T01:55:54.619Z"
   },
   {
    "duration": 12,
    "start_time": "2024-06-13T01:55:54.648Z"
   },
   {
    "duration": 15,
    "start_time": "2024-06-13T01:55:54.671Z"
   },
   {
    "duration": 9,
    "start_time": "2024-06-13T01:55:54.690Z"
   },
   {
    "duration": 228,
    "start_time": "2024-06-13T01:55:54.703Z"
   },
   {
    "duration": 11,
    "start_time": "2024-06-13T01:55:54.934Z"
   },
   {
    "duration": 214,
    "start_time": "2024-06-13T01:55:54.948Z"
   },
   {
    "duration": 7,
    "start_time": "2024-06-13T01:55:55.166Z"
   },
   {
    "duration": 26,
    "start_time": "2024-06-13T01:55:55.179Z"
   },
   {
    "duration": 10,
    "start_time": "2024-06-13T01:55:55.208Z"
   },
   {
    "duration": 10,
    "start_time": "2024-06-13T01:55:55.221Z"
   },
   {
    "duration": 27,
    "start_time": "2024-06-13T01:55:55.234Z"
   },
   {
    "duration": 44,
    "start_time": "2024-06-13T01:55:55.263Z"
   },
   {
    "duration": 4,
    "start_time": "2024-06-13T01:55:55.310Z"
   },
   {
    "duration": 3,
    "start_time": "2024-06-13T01:55:55.317Z"
   },
   {
    "duration": 7,
    "start_time": "2024-06-13T01:55:55.324Z"
   },
   {
    "duration": 949,
    "start_time": "2024-06-13T01:55:55.334Z"
   },
   {
    "duration": 213,
    "start_time": "2024-06-13T01:55:56.288Z"
   },
   {
    "duration": 4,
    "start_time": "2024-06-13T01:55:56.507Z"
   },
   {
    "duration": 5,
    "start_time": "2024-06-13T01:55:56.515Z"
   },
   {
    "duration": 4,
    "start_time": "2024-06-13T01:55:56.522Z"
   },
   {
    "duration": 706,
    "start_time": "2024-06-13T01:55:56.528Z"
   },
   {
    "duration": 0,
    "start_time": "2024-06-13T01:55:57.238Z"
   },
   {
    "duration": 0,
    "start_time": "2024-06-13T01:55:57.240Z"
   },
   {
    "duration": 0,
    "start_time": "2024-06-13T01:55:57.242Z"
   },
   {
    "duration": 0,
    "start_time": "2024-06-13T01:55:57.244Z"
   },
   {
    "duration": 0,
    "start_time": "2024-06-13T01:55:57.246Z"
   },
   {
    "duration": 0,
    "start_time": "2024-06-13T01:55:57.248Z"
   },
   {
    "duration": 0,
    "start_time": "2024-06-13T01:55:57.250Z"
   },
   {
    "duration": 0,
    "start_time": "2024-06-13T01:55:57.252Z"
   },
   {
    "duration": 0,
    "start_time": "2024-06-13T01:55:57.253Z"
   },
   {
    "duration": 0,
    "start_time": "2024-06-13T01:55:57.255Z"
   },
   {
    "duration": 0,
    "start_time": "2024-06-13T01:55:57.258Z"
   },
   {
    "duration": 10,
    "start_time": "2024-06-13T01:58:02.301Z"
   },
   {
    "duration": 217,
    "start_time": "2024-06-13T02:02:26.749Z"
   },
   {
    "duration": 1153,
    "start_time": "2024-06-13T02:05:37.480Z"
   },
   {
    "duration": 7,
    "start_time": "2024-06-13T02:06:01.660Z"
   },
   {
    "duration": 7,
    "start_time": "2024-06-13T02:10:41.669Z"
   },
   {
    "duration": 24,
    "start_time": "2024-06-13T02:13:35.999Z"
   },
   {
    "duration": 177,
    "start_time": "2024-06-13T02:14:22.595Z"
   },
   {
    "duration": 892,
    "start_time": "2024-06-13T02:16:50.828Z"
   },
   {
    "duration": 75,
    "start_time": "2024-06-13T02:17:14.799Z"
   },
   {
    "duration": 8,
    "start_time": "2024-06-13T02:22:49.239Z"
   },
   {
    "duration": 4,
    "start_time": "2024-06-13T02:22:58.054Z"
   },
   {
    "duration": 3,
    "start_time": "2024-06-13T02:36:55.018Z"
   },
   {
    "duration": 4,
    "start_time": "2024-06-13T02:37:27.784Z"
   },
   {
    "duration": 12,
    "start_time": "2024-06-13T02:43:01.623Z"
   },
   {
    "duration": 3,
    "start_time": "2024-06-13T02:46:58.157Z"
   },
   {
    "duration": 8,
    "start_time": "2024-06-13T02:48:27.209Z"
   },
   {
    "duration": 15,
    "start_time": "2024-06-13T02:49:09.031Z"
   },
   {
    "duration": 3,
    "start_time": "2024-06-13T02:50:36.520Z"
   },
   {
    "duration": 25,
    "start_time": "2024-06-13T02:51:00.570Z"
   },
   {
    "duration": 5,
    "start_time": "2024-06-13T02:51:35.175Z"
   },
   {
    "duration": 75,
    "start_time": "2024-06-13T02:53:30.259Z"
   },
   {
    "duration": 21,
    "start_time": "2024-06-13T02:53:54.412Z"
   },
   {
    "duration": 734,
    "start_time": "2024-06-13T02:59:31.741Z"
   },
   {
    "duration": 30,
    "start_time": "2024-06-13T02:59:32.478Z"
   },
   {
    "duration": 6,
    "start_time": "2024-06-13T02:59:32.510Z"
   },
   {
    "duration": 8,
    "start_time": "2024-06-13T02:59:32.521Z"
   },
   {
    "duration": 8,
    "start_time": "2024-06-13T02:59:32.532Z"
   },
   {
    "duration": 9,
    "start_time": "2024-06-13T02:59:32.543Z"
   },
   {
    "duration": 260,
    "start_time": "2024-06-13T02:59:32.556Z"
   },
   {
    "duration": 7,
    "start_time": "2024-06-13T02:59:32.819Z"
   },
   {
    "duration": 10,
    "start_time": "2024-06-13T02:59:32.829Z"
   },
   {
    "duration": 219,
    "start_time": "2024-06-13T02:59:32.846Z"
   },
   {
    "duration": 7,
    "start_time": "2024-06-13T02:59:33.068Z"
   },
   {
    "duration": 31,
    "start_time": "2024-06-13T02:59:33.078Z"
   },
   {
    "duration": 11,
    "start_time": "2024-06-13T02:59:33.112Z"
   },
   {
    "duration": 7,
    "start_time": "2024-06-13T02:59:33.126Z"
   },
   {
    "duration": 919,
    "start_time": "2024-06-13T02:59:33.136Z"
   },
   {
    "duration": 0,
    "start_time": "2024-06-13T02:59:34.059Z"
   },
   {
    "duration": 0,
    "start_time": "2024-06-13T02:59:34.060Z"
   },
   {
    "duration": 0,
    "start_time": "2024-06-13T02:59:34.062Z"
   },
   {
    "duration": 0,
    "start_time": "2024-06-13T02:59:34.064Z"
   },
   {
    "duration": 0,
    "start_time": "2024-06-13T02:59:34.068Z"
   },
   {
    "duration": 0,
    "start_time": "2024-06-13T02:59:34.070Z"
   },
   {
    "duration": 0,
    "start_time": "2024-06-13T02:59:34.072Z"
   },
   {
    "duration": 0,
    "start_time": "2024-06-13T02:59:34.075Z"
   },
   {
    "duration": 0,
    "start_time": "2024-06-13T02:59:34.077Z"
   },
   {
    "duration": 0,
    "start_time": "2024-06-13T02:59:34.107Z"
   },
   {
    "duration": 0,
    "start_time": "2024-06-13T02:59:34.110Z"
   },
   {
    "duration": 0,
    "start_time": "2024-06-13T02:59:34.112Z"
   },
   {
    "duration": 0,
    "start_time": "2024-06-13T02:59:34.114Z"
   },
   {
    "duration": 0,
    "start_time": "2024-06-13T02:59:34.116Z"
   },
   {
    "duration": 0,
    "start_time": "2024-06-13T02:59:34.118Z"
   },
   {
    "duration": 0,
    "start_time": "2024-06-13T02:59:34.121Z"
   },
   {
    "duration": 0,
    "start_time": "2024-06-13T02:59:34.122Z"
   },
   {
    "duration": 0,
    "start_time": "2024-06-13T02:59:34.125Z"
   },
   {
    "duration": 0,
    "start_time": "2024-06-13T02:59:34.127Z"
   },
   {
    "duration": 0,
    "start_time": "2024-06-13T02:59:34.130Z"
   },
   {
    "duration": 0,
    "start_time": "2024-06-13T02:59:34.132Z"
   },
   {
    "duration": 0,
    "start_time": "2024-06-13T02:59:34.135Z"
   },
   {
    "duration": 0,
    "start_time": "2024-06-13T02:59:34.137Z"
   },
   {
    "duration": 31,
    "start_time": "2024-06-13T03:02:32.992Z"
   },
   {
    "duration": 903,
    "start_time": "2024-06-13T03:02:36.500Z"
   },
   {
    "duration": 28,
    "start_time": "2024-06-13T03:03:24.834Z"
   },
   {
    "duration": 6,
    "start_time": "2024-06-13T03:07:00.390Z"
   },
   {
    "duration": 23,
    "start_time": "2024-06-13T03:11:42.477Z"
   },
   {
    "duration": 22,
    "start_time": "2024-06-13T03:12:11.936Z"
   },
   {
    "duration": 12,
    "start_time": "2024-06-13T03:14:34.632Z"
   },
   {
    "duration": 6,
    "start_time": "2024-06-13T03:17:54.547Z"
   },
   {
    "duration": 18,
    "start_time": "2024-06-13T03:20:46.479Z"
   },
   {
    "duration": 805,
    "start_time": "2024-06-13T03:21:44.223Z"
   },
   {
    "duration": 21,
    "start_time": "2024-06-13T03:21:45.031Z"
   },
   {
    "duration": 6,
    "start_time": "2024-06-13T03:21:45.058Z"
   },
   {
    "duration": 45,
    "start_time": "2024-06-13T03:21:45.068Z"
   },
   {
    "duration": 8,
    "start_time": "2024-06-13T03:21:45.118Z"
   },
   {
    "duration": 7,
    "start_time": "2024-06-13T03:21:45.129Z"
   },
   {
    "duration": 13,
    "start_time": "2024-06-13T03:21:45.139Z"
   },
   {
    "duration": 245,
    "start_time": "2024-06-13T03:21:45.156Z"
   },
   {
    "duration": 8,
    "start_time": "2024-06-13T03:21:45.407Z"
   },
   {
    "duration": 9,
    "start_time": "2024-06-13T03:21:45.423Z"
   },
   {
    "duration": 235,
    "start_time": "2024-06-13T03:21:45.436Z"
   },
   {
    "duration": 8,
    "start_time": "2024-06-13T03:21:45.674Z"
   },
   {
    "duration": 25,
    "start_time": "2024-06-13T03:21:45.685Z"
   },
   {
    "duration": 13,
    "start_time": "2024-06-13T03:21:45.713Z"
   },
   {
    "duration": 9,
    "start_time": "2024-06-13T03:21:45.728Z"
   },
   {
    "duration": 12,
    "start_time": "2024-06-13T03:21:45.740Z"
   },
   {
    "duration": 12,
    "start_time": "2024-06-13T03:21:45.754Z"
   },
   {
    "duration": 13,
    "start_time": "2024-06-13T03:21:45.807Z"
   },
   {
    "duration": 7,
    "start_time": "2024-06-13T03:21:45.824Z"
   },
   {
    "duration": 6,
    "start_time": "2024-06-13T03:21:45.834Z"
   },
   {
    "duration": 15,
    "start_time": "2024-06-13T03:21:45.843Z"
   },
   {
    "duration": 935,
    "start_time": "2024-06-13T03:21:45.864Z"
   },
   {
    "duration": 235,
    "start_time": "2024-06-13T03:21:46.802Z"
   },
   {
    "duration": 4,
    "start_time": "2024-06-13T03:21:47.040Z"
   },
   {
    "duration": 4,
    "start_time": "2024-06-13T03:21:47.049Z"
   },
   {
    "duration": 3,
    "start_time": "2024-06-13T03:21:47.057Z"
   },
   {
    "duration": 696,
    "start_time": "2024-06-13T03:21:47.064Z"
   },
   {
    "duration": 0,
    "start_time": "2024-06-13T03:21:47.764Z"
   },
   {
    "duration": 0,
    "start_time": "2024-06-13T03:21:47.765Z"
   },
   {
    "duration": 0,
    "start_time": "2024-06-13T03:21:47.767Z"
   },
   {
    "duration": 0,
    "start_time": "2024-06-13T03:21:47.769Z"
   },
   {
    "duration": 0,
    "start_time": "2024-06-13T03:21:47.770Z"
   },
   {
    "duration": 0,
    "start_time": "2024-06-13T03:21:47.772Z"
   },
   {
    "duration": 0,
    "start_time": "2024-06-13T03:21:47.774Z"
   },
   {
    "duration": 0,
    "start_time": "2024-06-13T03:21:47.775Z"
   },
   {
    "duration": 0,
    "start_time": "2024-06-13T03:21:47.777Z"
   },
   {
    "duration": 0,
    "start_time": "2024-06-13T03:21:47.779Z"
   },
   {
    "duration": 0,
    "start_time": "2024-06-13T03:21:47.806Z"
   },
   {
    "duration": 6,
    "start_time": "2024-06-13T03:22:54.193Z"
   },
   {
    "duration": 19,
    "start_time": "2024-06-13T03:23:24.820Z"
   },
   {
    "duration": 50,
    "start_time": "2024-06-13T03:24:21.645Z"
   },
   {
    "duration": 12,
    "start_time": "2024-06-13T03:25:17.551Z"
   },
   {
    "duration": 328,
    "start_time": "2024-06-13T03:50:17.850Z"
   },
   {
    "duration": 771,
    "start_time": "2024-06-13T03:50:38.991Z"
   },
   {
    "duration": 19,
    "start_time": "2024-06-13T03:50:39.765Z"
   },
   {
    "duration": 5,
    "start_time": "2024-06-13T03:50:39.788Z"
   },
   {
    "duration": 8,
    "start_time": "2024-06-13T03:50:39.807Z"
   },
   {
    "duration": 10,
    "start_time": "2024-06-13T03:50:39.818Z"
   },
   {
    "duration": 11,
    "start_time": "2024-06-13T03:50:39.830Z"
   },
   {
    "duration": 257,
    "start_time": "2024-06-13T03:50:39.844Z"
   },
   {
    "duration": 7,
    "start_time": "2024-06-13T03:50:40.107Z"
   },
   {
    "duration": 10,
    "start_time": "2024-06-13T03:50:40.118Z"
   },
   {
    "duration": 236,
    "start_time": "2024-06-13T03:50:40.134Z"
   },
   {
    "duration": 7,
    "start_time": "2024-06-13T03:50:40.374Z"
   },
   {
    "duration": 23,
    "start_time": "2024-06-13T03:50:40.384Z"
   },
   {
    "duration": 10,
    "start_time": "2024-06-13T03:50:40.410Z"
   },
   {
    "duration": 7,
    "start_time": "2024-06-13T03:50:40.423Z"
   },
   {
    "duration": 8,
    "start_time": "2024-06-13T03:50:40.433Z"
   },
   {
    "duration": 11,
    "start_time": "2024-06-13T03:50:40.444Z"
   },
   {
    "duration": 53,
    "start_time": "2024-06-13T03:50:40.458Z"
   },
   {
    "duration": 4,
    "start_time": "2024-06-13T03:50:40.515Z"
   },
   {
    "duration": 9,
    "start_time": "2024-06-13T03:50:40.522Z"
   },
   {
    "duration": 13,
    "start_time": "2024-06-13T03:50:40.534Z"
   },
   {
    "duration": 1349,
    "start_time": "2024-06-13T03:50:40.550Z"
   },
   {
    "duration": 0,
    "start_time": "2024-06-13T03:50:41.907Z"
   },
   {
    "duration": 0,
    "start_time": "2024-06-13T03:50:41.908Z"
   },
   {
    "duration": 0,
    "start_time": "2024-06-13T03:50:41.910Z"
   },
   {
    "duration": 0,
    "start_time": "2024-06-13T03:50:41.912Z"
   },
   {
    "duration": 0,
    "start_time": "2024-06-13T03:50:41.914Z"
   },
   {
    "duration": 0,
    "start_time": "2024-06-13T03:50:41.917Z"
   },
   {
    "duration": 0,
    "start_time": "2024-06-13T03:50:41.920Z"
   },
   {
    "duration": 0,
    "start_time": "2024-06-13T03:50:41.923Z"
   },
   {
    "duration": 0,
    "start_time": "2024-06-13T03:50:41.924Z"
   },
   {
    "duration": 0,
    "start_time": "2024-06-13T03:50:41.927Z"
   },
   {
    "duration": 0,
    "start_time": "2024-06-13T03:50:41.930Z"
   },
   {
    "duration": 0,
    "start_time": "2024-06-13T03:50:41.935Z"
   },
   {
    "duration": 0,
    "start_time": "2024-06-13T03:50:41.938Z"
   },
   {
    "duration": 0,
    "start_time": "2024-06-13T03:50:41.940Z"
   },
   {
    "duration": 0,
    "start_time": "2024-06-13T03:50:41.943Z"
   },
   {
    "duration": 0,
    "start_time": "2024-06-13T03:50:41.945Z"
   },
   {
    "duration": 0,
    "start_time": "2024-06-13T03:50:41.947Z"
   },
   {
    "duration": 869,
    "start_time": "2024-06-13T03:52:03.214Z"
   },
   {
    "duration": 200,
    "start_time": "2024-06-13T03:52:26.272Z"
   },
   {
    "duration": 11,
    "start_time": "2024-06-13T03:53:33.322Z"
   },
   {
    "duration": 6,
    "start_time": "2024-06-13T03:54:26.073Z"
   },
   {
    "duration": 8,
    "start_time": "2024-06-13T03:55:52.390Z"
   },
   {
    "duration": 1160,
    "start_time": "2024-06-13T03:56:04.347Z"
   },
   {
    "duration": 7,
    "start_time": "2024-06-13T03:56:13.661Z"
   },
   {
    "duration": 5,
    "start_time": "2024-06-13T03:57:10.932Z"
   },
   {
    "duration": 12,
    "start_time": "2024-06-13T04:01:04.569Z"
   },
   {
    "duration": 274,
    "start_time": "2024-06-13T04:01:55.772Z"
   },
   {
    "duration": 8,
    "start_time": "2024-06-13T04:02:07.592Z"
   },
   {
    "duration": 21,
    "start_time": "2024-06-13T04:12:04.248Z"
   },
   {
    "duration": 22,
    "start_time": "2024-06-13T04:12:26.348Z"
   },
   {
    "duration": 318,
    "start_time": "2024-06-13T16:08:05.612Z"
   },
   {
    "duration": 4547,
    "start_time": "2024-06-13T16:08:24.253Z"
   },
   {
    "duration": 20,
    "start_time": "2024-06-13T16:08:28.804Z"
   },
   {
    "duration": 5,
    "start_time": "2024-06-13T16:08:28.828Z"
   },
   {
    "duration": 9,
    "start_time": "2024-06-13T16:08:28.837Z"
   },
   {
    "duration": 7,
    "start_time": "2024-06-13T16:08:28.852Z"
   },
   {
    "duration": 46,
    "start_time": "2024-06-13T16:08:28.862Z"
   },
   {
    "duration": 246,
    "start_time": "2024-06-13T16:08:28.911Z"
   },
   {
    "duration": 7,
    "start_time": "2024-06-13T16:08:29.162Z"
   },
   {
    "duration": 32,
    "start_time": "2024-06-13T16:08:29.172Z"
   },
   {
    "duration": 225,
    "start_time": "2024-06-13T16:08:29.207Z"
   },
   {
    "duration": 10,
    "start_time": "2024-06-13T16:08:29.436Z"
   },
   {
    "duration": 8,
    "start_time": "2024-06-13T16:08:29.450Z"
   },
   {
    "duration": 13,
    "start_time": "2024-06-13T16:08:29.461Z"
   },
   {
    "duration": 8,
    "start_time": "2024-06-13T16:08:29.503Z"
   },
   {
    "duration": 8,
    "start_time": "2024-06-13T16:08:29.515Z"
   },
   {
    "duration": 12,
    "start_time": "2024-06-13T16:08:29.525Z"
   },
   {
    "duration": 8,
    "start_time": "2024-06-13T16:08:29.540Z"
   },
   {
    "duration": 50,
    "start_time": "2024-06-13T16:08:29.552Z"
   },
   {
    "duration": 8,
    "start_time": "2024-06-13T16:08:29.606Z"
   },
   {
    "duration": 13,
    "start_time": "2024-06-13T16:08:29.618Z"
   },
   {
    "duration": 1181,
    "start_time": "2024-06-13T16:08:29.634Z"
   },
   {
    "duration": 0,
    "start_time": "2024-06-13T16:08:30.819Z"
   },
   {
    "duration": 1,
    "start_time": "2024-06-13T16:08:30.820Z"
   },
   {
    "duration": 0,
    "start_time": "2024-06-13T16:08:30.823Z"
   },
   {
    "duration": 0,
    "start_time": "2024-06-13T16:08:30.825Z"
   },
   {
    "duration": 0,
    "start_time": "2024-06-13T16:08:30.827Z"
   },
   {
    "duration": 0,
    "start_time": "2024-06-13T16:08:30.830Z"
   },
   {
    "duration": 0,
    "start_time": "2024-06-13T16:08:30.832Z"
   },
   {
    "duration": 0,
    "start_time": "2024-06-13T16:08:30.834Z"
   },
   {
    "duration": 0,
    "start_time": "2024-06-13T16:08:30.838Z"
   },
   {
    "duration": 0,
    "start_time": "2024-06-13T16:08:30.841Z"
   },
   {
    "duration": 0,
    "start_time": "2024-06-13T16:08:30.843Z"
   },
   {
    "duration": 0,
    "start_time": "2024-06-13T16:08:30.846Z"
   },
   {
    "duration": 0,
    "start_time": "2024-06-13T16:08:30.849Z"
   },
   {
    "duration": 0,
    "start_time": "2024-06-13T16:08:30.851Z"
   },
   {
    "duration": 0,
    "start_time": "2024-06-13T16:08:30.902Z"
   },
   {
    "duration": 0,
    "start_time": "2024-06-13T16:08:30.904Z"
   },
   {
    "duration": 0,
    "start_time": "2024-06-13T16:08:30.907Z"
   },
   {
    "duration": 0,
    "start_time": "2024-06-13T16:08:30.909Z"
   },
   {
    "duration": 1,
    "start_time": "2024-06-13T16:08:30.910Z"
   },
   {
    "duration": 0,
    "start_time": "2024-06-13T16:08:30.913Z"
   },
   {
    "duration": 313,
    "start_time": "2024-06-13T16:09:08.350Z"
   },
   {
    "duration": 24,
    "start_time": "2024-06-13T16:29:33.068Z"
   },
   {
    "duration": 969,
    "start_time": "2024-06-13T16:30:28.109Z"
   },
   {
    "duration": 218,
    "start_time": "2024-06-13T16:31:13.632Z"
   },
   {
    "duration": 8,
    "start_time": "2024-06-13T16:31:19.011Z"
   },
   {
    "duration": 7,
    "start_time": "2024-06-13T16:31:20.669Z"
   },
   {
    "duration": 9,
    "start_time": "2024-06-13T16:31:23.609Z"
   },
   {
    "duration": 21,
    "start_time": "2024-06-13T16:33:21.559Z"
   },
   {
    "duration": 8,
    "start_time": "2024-06-13T16:33:29.425Z"
   },
   {
    "duration": 3,
    "start_time": "2024-06-13T17:39:13.615Z"
   }
  ],
  "kernelspec": {
   "display_name": "Python 3 (ipykernel)",
   "language": "python",
   "name": "python3"
  },
  "language_info": {
   "codemirror_mode": {
    "name": "ipython",
    "version": 3
   },
   "file_extension": ".py",
   "mimetype": "text/x-python",
   "name": "python",
   "nbconvert_exporter": "python",
   "pygments_lexer": "ipython3",
   "version": "3.11.5"
  },
  "toc": {
   "base_numbering": 1,
   "nav_menu": {},
   "number_sections": true,
   "sideBar": true,
   "skip_h1_title": true,
   "title_cell": "Table of Contents",
   "title_sidebar": "Contents",
   "toc_cell": false,
   "toc_position": {},
   "toc_section_display": true,
   "toc_window_display": false
  }
 },
 "nbformat": 4,
 "nbformat_minor": 2
}
